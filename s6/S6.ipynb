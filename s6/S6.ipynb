{
 "cells": [
  {
   "cell_type": "code",
   "execution_count": 1,
   "metadata": {},
   "outputs": [],
   "source": [
    "from model import Net\n",
    "from utils import get_dst_device, print_model_summary\n",
    "device = get_dst_device()\n",
    "model = Net().to(device)\n",
    "print_model_summary(model)"
   ]
  },
  {
   "cell_type": "code",
   "execution_count": null,
   "metadata": {},
   "outputs": [],
   "source": [
    "from utils import setup_test_loader, setup_train_loader, plot_data\n",
    "train_loader = setup_train_loader(\"../data\")\n",
    "test_loader = setup_test_loader(\"../data\")\n",
    "plot_data(train_loader)"
   ]
  },
  {
   "cell_type": "code",
   "execution_count": null,
   "metadata": {},
   "outputs": [],
   "source": [
    "import torch.optim as optim\n",
    "import torch.nn.functional as F\n",
    "from utils import train_model, test_model\n",
    "optimizer = optim.SGD(model.parameters(), lr=0.03, momentum=0.9)\n",
    "scheduler = optim.lr_scheduler.StepLR(optimizer, step_size=15, gamma=0.1, verbose=True)\n",
    "# New Line\n",
    "criterion = F.nll_loss\n",
    "num_epochs = 20\n",
    "train_loss_per_epoch = []\n",
    "test_loss_per_epoch = []\n",
    "train_accuracy_per_epoch = []\n",
    "test_accuracy_per_epoch = []\n",
    "for epoch in range(1, num_epochs+1):\n",
    "  print(f'Epoch {epoch}')\n",
    "  [train_accuracy, train_loss] = train_model(model, device, train_loader, optimizer, criterion)\n",
    "  train_accuracy_per_epoch.append(train_accuracy)\n",
    "  train_loss_per_epoch.append(train_loss)\n",
    "\n",
    "  [test_accuracy, test_loss] = test_model(model, device, test_loader, criterion)\n",
    "  test_accuracy_per_epoch.append(train_accuracy)\n",
    "  test_loss_per_epoch.append(train_loss)\n",
    "\n",
    "  scheduler.step()"
   ]
  },
  {
   "cell_type": "code",
   "execution_count": null,
   "metadata": {},
   "outputs": [],
   "source": [
    "from utils import plot_results\n",
    "plot_results(train_accuracy_per_epoch, train_loss_per_epoch, test_accuracy_per_epoch, test_loss_per_epoch)"
   ]
  }
 ],
 "metadata": {
  "kernelspec": {
   "display_name": "Python 3.10.9 ('base')",
   "language": "python",
   "name": "python3"
  },
  "language_info": {
   "codemirror_mode": {
    "name": "ipython",
    "version": 3
   },
   "file_extension": ".py",
   "mimetype": "text/x-python",
   "name": "python",
   "nbconvert_exporter": "python",
   "pygments_lexer": "ipython3",
   "version": "3.10.9"
  },
  "orig_nbformat": 4,
  "vscode": {
   "interpreter": {
    "hash": "d80930185d003ea1dd6dbcf9e456fce4dcdc865ee148f4f678c936801e488fca"
   }
  }
 },
 "nbformat": 4,
 "nbformat_minor": 2
}
